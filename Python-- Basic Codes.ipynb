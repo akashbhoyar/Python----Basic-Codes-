{
 "cells": [
  {
   "cell_type": "code",
   "execution_count": 1,
   "id": "caeadff9",
   "metadata": {},
   "outputs": [
    {
     "name": "stdout",
     "output_type": "stream",
     "text": [
      "(12, 232, 23, 'srewolf', 34, 565, 57, 'slaminA', 'loohcS')\n"
     ]
    }
   ],
   "source": [
    "# Display the elements of type string reverse it else print as it is in the tuple\n",
    "\n",
    "tup = (12,232,23,'flowers',34,565,57,'Animals','School')\n",
    "lst = list(tup)\n",
    "new_lst = []\n",
    "for i in lst:\n",
    "    if isinstance(i,(str)):\n",
    "        x = i[::-1]\n",
    "        new_lst.append(x)\n",
    "    else:\n",
    "        new_lst.append(i)\n",
    "print(tuple(new_lst))"
   ]
  },
  {
   "cell_type": "code",
   "execution_count": 2,
   "id": "aab3b960",
   "metadata": {},
   "outputs": [
    {
     "name": "stdout",
     "output_type": "stream",
     "text": [
      "List of flowers is :  ['sunflower', 'rose', 'jasmin']\n",
      "List of animals is :  ['tiger', 'lion', 'cat']\n"
     ]
    }
   ],
   "source": [
    "# li = ['tiger.animal',lion.animal,sunflower.flower,cat.animal,rose.flower,jasmin.flower]\n",
    "# create separate animals and flowers list\n",
    "\n",
    "li = ['tiger.animal','lion.animal','sunflower.flower','cat.animal','rose.flower','jasmin.flower']\n",
    "flowers = []\n",
    "animals = []\n",
    "for i in li:\n",
    "  if \"flower\" in i:\n",
    "      flowers.append(i)\n",
    "  elif \"animal\" in i:\n",
    "      animals.append(i)\n",
    "flo = []\n",
    "for j in flowers:\n",
    "    x = j.split('.')\n",
    "    x.remove('flower')\n",
    "    flo.extend(x)\n",
    "print(\"List of flowers is : \",flo)\n",
    "ani = []\n",
    "for j in animals:\n",
    "    x = j.split('.')\n",
    "    x.remove('animal')\n",
    "    ani.extend(x)\n",
    "print(\"List of animals is : \",ani)"
   ]
  },
  {
   "cell_type": "code",
   "execution_count": 3,
   "id": "2fedf829",
   "metadata": {},
   "outputs": [
    {
     "name": "stdout",
     "output_type": "stream",
     "text": [
      "Alphabets is :  27\n",
      "Digits is :  7\n",
      "Special Symbols is :  6\n"
     ]
    }
   ],
   "source": [
    "#  Count all alphabets, digits, and special symbols from a given string\n",
    "#  and sum of number in a string\n",
    "#  str = 'hai hello&&1489welcome to day3 sess23ion'\n",
    "\n",
    "t_str = 'hai hello&&1489welcome to day3 sess23ion'\n",
    "alphabets = 0\n",
    "digits = 0\n",
    "special = 0\n",
    "for i in range(len(t_str)):\n",
    "    if (t_str[i].isalpha()):\n",
    "        alphabets = alphabets + 1\n",
    "    elif (t_str[i].isdigit()):\n",
    "        digits = digits + 1\n",
    "    else:\n",
    "        special = special + 1\n",
    "print(\"Alphabets is : \",alphabets)\n",
    "print(\"Digits is : \",digits)\n",
    "print(\"Special Symbols is : \",special)"
   ]
  },
  {
   "cell_type": "code",
   "execution_count": 4,
   "id": "6b27a43f",
   "metadata": {},
   "outputs": [
    {
     "name": "stdout",
     "output_type": "stream",
     "text": [
      "Enter the number : 3\n",
      "3 is a prime number\n"
     ]
    }
   ],
   "source": [
    "#check the given no is prime or not\n",
    "#A prime number is a number that is only divisible by 1 and itself.\n",
    "\n",
    "\n",
    "num = int(input(\"Enter the number : \"))\n",
    "if num != 0:\n",
    "    for i in (2, int(num/2)+1):\n",
    "        if num != 2 and num % i == 0:\n",
    "            print(num, \"is not a prime number\")\n",
    "            break\n",
    "        else:\n",
    "            print(num, \"is a prime number\")\n",
    "            break\n",
    "else:\n",
    "    print(num, \"is not a prime number\")"
   ]
  },
  {
   "cell_type": "code",
   "execution_count": 5,
   "id": "0a2f0889",
   "metadata": {},
   "outputs": [
    {
     "name": "stdout",
     "output_type": "stream",
     "text": [
      "Enter 1st string : abc\n",
      "Enter 2nd string : cba\n",
      "True\n"
     ]
    }
   ],
   "source": [
    "# Write a function that accepts two strings and returns True if the two\n",
    "# strings are anagrams of each other.\n",
    "\n",
    "# def anagrams(a,b):\n",
    "#     if sorted(a) == sorted(b):\n",
    "#         return True\n",
    "#     else:\n",
    "#         return False\n",
    "# str_1 = input(\"Enter 1st string : \")\n",
    "# str_2 = input(\"Enter 2nd string : \")\n",
    "# print(anagrams(str_1,str_2))\n",
    "\n",
    "# --OR--\n",
    "\n",
    "def anagrams(a,b):\n",
    "    lst1,lst2 = [],[]\n",
    "    [lst1.append(ord(i)) for i in a]\n",
    "    [lst2.append(ord(j)) for j in b]\n",
    "    lst1.sort()\n",
    "    lst2.sort()\n",
    "    if lst1 == lst2:\n",
    "        print('True')\n",
    "    else:\n",
    "        print('False')\n",
    "str_1 = input(\"Enter 1st string : \")\n",
    "str_2 = input(\"Enter 2nd string : \")\n",
    "anagrams(str_1,str_2)"
   ]
  },
  {
   "cell_type": "code",
   "execution_count": 6,
   "id": "ed911c0b",
   "metadata": {},
   "outputs": [
    {
     "name": "stdout",
     "output_type": "stream",
     "text": [
      "[0, 4, 5, 6, 7, 8, 20, 43, 44, 45]\n"
     ]
    }
   ],
   "source": [
    "# Find the range from the following string -- Try without using function\n",
    "# sentence = '0-0,4-8,20-20,43-45'\n",
    "# Output Should be [0, 4, 5, 6, 7, 8, 20, 43, 44, 45, 46]\n",
    "\n",
    "sentence = '0-0,4-8,20-20,43-45'\n",
    "def find_range(st):\n",
    "    a = st.split(',')\n",
    "    lst = []\n",
    "    for i in a:\n",
    "        x = i.split('-')\n",
    "        a=int(x[0])\n",
    "        b=int(x[1])\n",
    "        [lst.append(j) for j in range(a,b+1)]\n",
    "    print(lst)\n",
    "find_range(sentence)"
   ]
  },
  {
   "cell_type": "code",
   "execution_count": 7,
   "id": "c6686240",
   "metadata": {},
   "outputs": [
    {
     "name": "stdout",
     "output_type": "stream",
     "text": [
      "{'john': 4, 'johnny': 3, 'jackie': 2, 'jamie': 3}\n",
      "john 4\n"
     ]
    }
   ],
   "source": [
    "# names = [\"john\", \"johnny\", \"jackie\", \"john\", \"jackie\",\n",
    "#             \"jamie\", \"jamie\", \"john\",\n",
    "#             \"johnny\", \"jamie\", \"johnny\",\n",
    "#             \"john\"];\n",
    "# a)print name with count\n",
    "# b)Print name with highest count\n",
    "\n",
    "names = [\"john\", \"johnny\", \"jackie\", \"john\", \"jackie\",\"jamie\", \"jamie\", \"john\",\"johnny\", \"jamie\", \"johnny\",\"john\"];\n",
    "d = {}\n",
    "for i in names:\n",
    "    d[i] = names.count(i)\n",
    "print(d)\n",
    "\n",
    "s = d.values()\n",
    "m_s = max(s)\n",
    "# print(m_s)\n",
    "for i in d:\n",
    "    if d[i] == m_s:\n",
    "        print(i,m_s)"
   ]
  },
  {
   "cell_type": "code",
   "execution_count": 8,
   "id": "7c9b0bb2",
   "metadata": {},
   "outputs": [
    {
     "name": "stdout",
     "output_type": "stream",
     "text": [
      "Enter the number : 13\n",
      "Enter the number : 15\n",
      "Enter the number : 20\n",
      "Enter the number : 30\n",
      "Enter the number : 45\n",
      "{15: [15, 16, 17, 18, 19], 30: [30, 31, 32, 33, 34], 45: [45, 46, 47, 48, 49]}\n"
     ]
    }
   ],
   "source": [
    "# Enter 5 user input number if the number is completely divisible\n",
    "# by 3 then take number as key value as next number with\n",
    "# ex: user input = 15\n",
    "# user input = 27\n",
    "# {15: [15, 16, 17, 18, 19], 27: [27, 28, 29, 30, 31]}\n",
    "\n",
    "d ={}\n",
    "lst = []\n",
    "key = 0\n",
    "for i in range(0,5):\n",
    "    num = int(input('Enter the number : '))\n",
    "    key = num\n",
    "    if num % 3 == 0:\n",
    "        for j in range(5):\n",
    "            lst.append(num)\n",
    "            num += 1\n",
    "        d[key] = lst\n",
    "    lst = []\n",
    "print(d)"
   ]
  },
  {
   "cell_type": "code",
   "execution_count": 9,
   "id": "eef6e2c8",
   "metadata": {},
   "outputs": [
    {
     "name": "stdout",
     "output_type": "stream",
     "text": [
      "{'hello': 'a', 100: 'b', 10.2: 'c', 'world': 'd', '121': 'e'}\n"
     ]
    }
   ],
   "source": [
    "# 3)flip key and value pair\n",
    "d = {\"a\": \"hello\", \"b\": 100, \"c\": 10.2, \"d\": \"world\",\"e\":'121'}\n",
    "keys = []\n",
    "values  =[]\n",
    "for key in d.keys():\n",
    "    values.append(key)\n",
    "for value in d.values():\n",
    "    keys.append(value)\n",
    "res = {}\n",
    "for key in keys:\n",
    "    for value in values:\n",
    "        res[key] = value\n",
    "        values.remove(value)\n",
    "        break\n",
    "print(res)\n",
    "\n",
    "# --OR---\n",
    "\n",
    "# n = {'A': 67, 'B': 23, 'C': 45, 'D': 56, 'E': 12, 'F': 69, 'G': 67, 'H': 23}\n",
    "# t = {}\n",
    "# for key,value in n.items():\n",
    "#     t[value] = key\n",
    "# print(t)"
   ]
  },
  {
   "cell_type": "code",
   "execution_count": 10,
   "id": "73e2e739",
   "metadata": {},
   "outputs": [
    {
     "name": "stdout",
     "output_type": "stream",
     "text": [
      "(23, 24, 546, 'rahul', 546, 'akash')\n"
     ]
    }
   ],
   "source": [
    "# print duplicate element in tuple\n",
    "\n",
    "tup = (23,24,34,23,24,546,'akash','rahul','pooja','rahul',546,'akash')\n",
    "lst_tup = list(tup)\n",
    "dup_tup = []\n",
    "for i in lst_tup:\n",
    "    if lst_tup.count(i) > 1:\n",
    "        dup_tup.append(i)\n",
    "for i in dup_tup:\n",
    "    if dup_tup.count(i) > 1:\n",
    "        dup_tup.remove(i)\n",
    "print(tuple(dup_tup))"
   ]
  },
  {
   "cell_type": "code",
   "execution_count": 11,
   "id": "426fb8ca",
   "metadata": {},
   "outputs": [
    {
     "name": "stdout",
     "output_type": "stream",
     "text": [
      "[1, 5]\n"
     ]
    }
   ],
   "source": [
    "# print integers in a list\n",
    "\n",
    "li = [1,'java',2.3,'5',5,'python']\n",
    "new_lst = []\n",
    "for i in li:\n",
    "    if isinstance(i,(int)):\n",
    "        new_lst.append(i)\n",
    "print(new_lst)"
   ]
  },
  {
   "cell_type": "code",
   "execution_count": 12,
   "id": "f79e4b62",
   "metadata": {},
   "outputs": [
    {
     "name": "stdout",
     "output_type": "stream",
     "text": [
      "Enter the total number of product : 3\n",
      "Enter tha product name : laptop\n",
      "Enter tha product name : mouse\n",
      "Enter tha product name : keyboard\n",
      "1  laptop\n",
      "2  mouse\n",
      "3  keyboard\n"
     ]
    }
   ],
   "source": [
    "# Create a product list based on user input\n",
    "\n",
    "lst = []\n",
    "num = int(input(\"Enter the total number of product : \"))\n",
    "for i in range(0,num):\n",
    "    prod = input(\"Enter tha product name : \")\n",
    "    lst.append(prod)\n",
    "for i in range(0,len(lst)):\n",
    "    print(i+1,'',lst[i])"
   ]
  },
  {
   "cell_type": "code",
   "execution_count": 13,
   "id": "607fa065",
   "metadata": {},
   "outputs": [
    {
     "name": "stdout",
     "output_type": "stream",
     "text": [
      "[12, 223, 23, 78, 'hsaka', 34, 565, 57, 'luhaR', 'lahsiV']\n"
     ]
    }
   ],
   "source": [
    "# If list contains string reverse the string else keep as it is\n",
    "\n",
    "lst = [12,223,23,78,'akash',34,565,57,'Rahul','Vishal']\n",
    "new_lst = []\n",
    "for i in lst:\n",
    "    if isinstance(i,(str)):\n",
    "        x = i[::-1]\n",
    "        new_lst.append(x)\n",
    "    else:\n",
    "        new_lst.append(i)\n",
    "print(new_lst)"
   ]
  },
  {
   "cell_type": "code",
   "execution_count": 14,
   "id": "c5809b50",
   "metadata": {},
   "outputs": [
    {
     "name": "stdout",
     "output_type": "stream",
     "text": [
      "No of strings :  3\n"
     ]
    }
   ],
   "source": [
    "# li = ['python',1,2,\"123\",3+4j,\"java\"] display how many string elements in a list\n",
    "\n",
    "li = ['python',1,2,\"123\",3+4j,\"java\"]\n",
    "count = 0\n",
    "for i in li:\n",
    "    if isinstance(i, str):\n",
    "        count = count + 1           \n",
    "print('No of strings : ',count)"
   ]
  },
  {
   "cell_type": "code",
   "execution_count": 15,
   "id": "257df8da",
   "metadata": {},
   "outputs": [
    {
     "name": "stdout",
     "output_type": "stream",
     "text": [
      "Enter the name of month : Mar\n",
      "Number of days is 31\n"
     ]
    }
   ],
   "source": [
    "#3)Based on user input month display how many days are there on perticular month\n",
    "\n",
    "month = input('Enter the name of month : ')\n",
    "if(month == 'Apr' or month == 'June' or month == 'Sept' or month == 'Nov'):\n",
    "    print(\"Number of days is 30\")\n",
    "elif(month == 'Feb'):\n",
    "    print(\"Number of days is 28 or 29\")\n",
    "else:\n",
    "    print(\"Number of days is 31\")"
   ]
  },
  {
   "cell_type": "code",
   "execution_count": 16,
   "id": "271635b7",
   "metadata": {},
   "outputs": [
    {
     "name": "stdout",
     "output_type": "stream",
     "text": [
      "Enter 3 or more than 3 digit number\n",
      "Enter the number : 1231\n",
      "FIRST and the LAST digits are same\n"
     ]
    }
   ],
   "source": [
    "# 1) input a number and check whether the FIRST and the LAST digits are same\n",
    "#  example:  96789\n",
    "#            |   |   they are same\n",
    "#  note it should be atleast a THREE digit number...\n",
    "\n",
    "print(\"Enter 3 or more than 3 digit number\")\n",
    "str_num = (input(\"Enter the number : \"))\n",
    "# str_num = str(num)\n",
    "len_num = len(str_num)\n",
    "if len_num >= 3:\n",
    "    if(str_num[0] ==  str_num[len_num-1]):\n",
    "        print(\"FIRST and the LAST digits are same\")\n",
    "    else:\n",
    "        print(\"FIRST and the LAST digits are not same\")"
   ]
  },
  {
   "cell_type": "code",
   "execution_count": 19,
   "id": "d8de1d42",
   "metadata": {},
   "outputs": [
    {
     "name": "stdout",
     "output_type": "stream",
     "text": [
      "The total is  57\n",
      "The avg is  4.75\n"
     ]
    }
   ],
   "source": [
    "# Given a text =\"ABC-4567-WXYZ-23091929-FGH\" something like this...\n",
    "# find all the digits , sum them up\n",
    "# display the total and the avg\n",
    "# if there are no digits then it should display NO DIGITS FOUND\n",
    "\n",
    "text =\"ABC-4567-WXYZ-23091929-FGH\"\n",
    "count_of_digit = 0\n",
    "sum_of_digit = 0\n",
    "for i in text:\n",
    "    if '0' <= i <= '9':\n",
    "        count_of_digit += 1 \n",
    "        sum_of_digit += int(i)\n",
    "if count_of_digit == 0:\n",
    "    print('NO DIGITS FOUND')\n",
    "else:\n",
    "    print('The total is ',sum_of_digit)\n",
    "    print('The avg is ',(sum_of_digit/count_of_digit))"
   ]
  },
  {
   "cell_type": "code",
   "execution_count": 20,
   "id": "71093e06",
   "metadata": {},
   "outputs": [
    {
     "name": "stdout",
     "output_type": "stream",
     "text": [
      "Enter the number : 12342\n",
      "LAST digit and SECOND DIGIT are same\n"
     ]
    }
   ],
   "source": [
    "# check whether the LAST digit and SECOND DIGIT is matching\n",
    "# 96786  \n",
    "#  |  |   matching \n",
    "#     last\n",
    "# second\n",
    "\n",
    "num = int(input(\"Enter the number : \"))\n",
    "str_num = str(num)\n",
    "len_num = len(str_num)\n",
    "if(str_num[1] ==  str_num[len_num-1]):\n",
    "    print(\"LAST digit and SECOND DIGIT are same\")\n",
    "else:\n",
    "    print(\"LAST and the SECOND digits are not same\")"
   ]
  },
  {
   "cell_type": "code",
   "execution_count": 21,
   "id": "3022dc20",
   "metadata": {},
   "outputs": [
    {
     "name": "stdout",
     "output_type": "stream",
     "text": [
      "Enter the number for factorial : 5\n",
      "120\n"
     ]
    }
   ],
   "source": [
    "# print factorial of given number\n",
    "\n",
    "num = int(input(\"Enter the number for factorial : \"))\n",
    "fact = 1\n",
    "for i in range(1,num + 1):\n",
    "    fact = i * fact\n",
    "print(fact)"
   ]
  },
  {
   "cell_type": "code",
   "execution_count": 23,
   "id": "4e43f00f",
   "metadata": {},
   "outputs": [
    {
     "name": "stdout",
     "output_type": "stream",
     "text": [
      "Write a string : AKash\n",
      "akASH"
     ]
    }
   ],
   "source": [
    "# Convert Upper to lower lower to upper case in a string if it is a number or \n",
    "# spl character print as it is\n",
    "\n",
    "cha = input(\"Write a string : \")\n",
    "end = len(cha)\n",
    "for i in range(0,end):\n",
    "    if cha[i].upper():\n",
    "        print(cha[i].swapcase(),end=\"\")\n",
    "    elif cha[i].lower():\n",
    "        print(cha[i].swapcase(),end=\"\")\n",
    "    else:\n",
    "        print(cha[i],end=\"\")"
   ]
  },
  {
   "cell_type": "code",
   "execution_count": 26,
   "id": "1598bb6e",
   "metadata": {},
   "outputs": [
    {
     "name": "stdout",
     "output_type": "stream",
     "text": [
      "Write the string : python is easy language\n",
      "Total Vowels in string is  8\n",
      "Total consonants in string is  15\n"
     ]
    }
   ],
   "source": [
    "# 9) Count how many Vowels and consonants in a string\n",
    "\n",
    "vowels = [\"A\",\"E\",\"I\",\"O\",\"U\",\"a\",\"e\",\"i\",\"o\",\"u\"]\n",
    "cha = input(\"Write the string : \")\n",
    "count_vowels = 0\n",
    "count_consonants = 0\n",
    "for i in range(0,len(cha)):\n",
    "    if cha[i] in vowels:\n",
    "        count_vowels = count_vowels + 1\n",
    "    else:\n",
    "        count_consonants = count_consonants + 1\n",
    "print(\"Total Vowels in string is \",count_vowels)\n",
    "print(\"Total consonants in string is \",count_consonants)"
   ]
  },
  {
   "cell_type": "code",
   "execution_count": 27,
   "id": "6e2fe428",
   "metadata": {},
   "outputs": [
    {
     "name": "stdout",
     "output_type": "stream",
     "text": [
      "Enter the number : 23\n",
      "Enter the number : 13\n",
      "Enter the number : 16\n",
      "Enter the number : 17\n",
      "Enter the number : 18\n",
      "Sum is 74\n",
      "Count of number not in range  1\n"
     ]
    }
   ],
   "source": [
    "# input 5 numbers,if entered number is in the range of 15 to 30 then add those \n",
    "# numbers else count the numbers which are not in range 15 to 30\n",
    "\n",
    "sum = 0\n",
    "count = 0\n",
    "for i in range(0,5):\n",
    "    num = int(input(\"Enter the number : \"))\n",
    "    if 15 <= num <= 30:\n",
    "        sum = sum + num\n",
    "    else:\n",
    "        count = count + 1\n",
    "print(\"Sum is\",sum)\n",
    "print(\"Count of number not in range \",count)"
   ]
  },
  {
   "cell_type": "code",
   "execution_count": 29,
   "id": "3493daf6",
   "metadata": {},
   "outputs": [
    {
     "name": "stdout",
     "output_type": "stream",
     "text": [
      "Enter the marks of Subject : 23\n",
      "Enter the marks of Subject : 67\n",
      "Enter the marks of Subject : 21\n",
      "Enter the marks of Subject : 98\n",
      "Enter the marks of Subject : 78\n",
      "Total of marks is  287\n",
      "Pass in 3 subject\n",
      "Fail in 2 subject\n"
     ]
    }
   ],
   "source": [
    "# input 5 subjects marks find total,average marks, if marks greater than \n",
    "# 35 pass less than 35 fail count how many subjects are passes and how \n",
    "# many are failed\n",
    "\n",
    "i = 0\n",
    "total = 0\n",
    "pass_s = 0\n",
    "fail = 0\n",
    "while i < 5:\n",
    "    sub = int(input(\"Enter the marks of Subject : \"))\n",
    "    total = total + sub\n",
    "    if sub > 35:\n",
    "        pass_s = pass_s + 1\n",
    "    else:\n",
    "        fail= fail + 1\n",
    "    i = i + 1\n",
    "print(\"Total of marks is \", total)\n",
    "print(\"Pass in\",pass_s,\"subject\")\n",
    "print(\"Fail in\",fail,\"subject\")"
   ]
  },
  {
   "cell_type": "code",
   "execution_count": null,
   "id": "3cbdcca7",
   "metadata": {},
   "outputs": [],
   "source": []
  }
 ],
 "metadata": {
  "kernelspec": {
   "display_name": "Python 3 (ipykernel)",
   "language": "python",
   "name": "python3"
  },
  "language_info": {
   "codemirror_mode": {
    "name": "ipython",
    "version": 3
   },
   "file_extension": ".py",
   "mimetype": "text/x-python",
   "name": "python",
   "nbconvert_exporter": "python",
   "pygments_lexer": "ipython3",
   "version": "3.10.1"
  }
 },
 "nbformat": 4,
 "nbformat_minor": 5
}
